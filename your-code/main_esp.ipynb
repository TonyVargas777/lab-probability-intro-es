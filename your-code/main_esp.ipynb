{
 "cells": [
  {
   "cell_type": "markdown",
   "metadata": {},
   "source": [
    "# Probability"
   ]
  },
  {
   "cell_type": "code",
   "execution_count": 3,
   "metadata": {},
   "outputs": [],
   "source": [
    "import numpy as np\n",
    "import pandas as pd\n",
    "from itertools import product\n",
    "import matplotlib.pyplot as plt"
   ]
  },
  {
   "cell_type": "markdown",
   "metadata": {},
   "source": [
    "## Reto 1\n",
    "Hay una caja con 10 bolas blancas, 12 bolas rojas y 8 bolas negras. Calcula la probabilidad de:\n",
    "* Sacar una bola blanca.\n",
    "* Sacar una bola blanca en la primera extracción y una bola negra en la segunda extracción sin reemplazar la primera.\n",
    "* Sacar una bola blanca en la primera extracción y una bola negra en la segunda extracción reemplazando la primera.\n",
    "* Sacar 3 bolas y que sean todas de diferentes colores."
   ]
  },
  {
   "cell_type": "code",
   "execution_count": 5,
   "metadata": {},
   "outputs": [
    {
     "data": {
      "text/plain": [
       "{'P(Bola Blanca)': 0.3333333333333333,\n",
       " 'P(Blanca y luego Negra sin reemplazo)': 0.09195402298850575,\n",
       " 'P(Blanca y luego Negra con reemplazo)': 0.08888888888888888,\n",
       " 'P(3 bolas diferentes colores)': 0.03940886699507389}"
      ]
     },
     "execution_count": 5,
     "metadata": {},
     "output_type": "execute_result"
    }
   ],
   "source": [
    "# 1. Caja con bolas: 10 blancas, 12 rojas, 8 negras\n",
    "total_balls = 10 + 12 + 8\n",
    "\n",
    "# Probabilidad de sacar una bola blanca\n",
    "p_white = 10 / total_balls\n",
    "\n",
    "# Probabilidad de sacar una bola blanca en la primera extracción y una negra en la segunda SIN reemplazo\n",
    "p_white_first_no_replace = (10 / total_balls) * (8 / (total_balls - 1))\n",
    "\n",
    "# Probabilidad de sacar una bola blanca en la primera extracción y una negra en la segunda CON reemplazo\n",
    "p_white_first_replace = (10 / total_balls) * (8 / total_balls)\n",
    "\n",
    "# Probabilidad de sacar 3 bolas de diferentes colores\n",
    "# 1ra bola blanca, 2da roja, 3ra negra sin reemplazo\n",
    "p_diff_colors = (10 / total_balls) * (12 / (total_balls - 1)) * (8 / (total_balls - 2))\n",
    "\n",
    "# Resultados\n",
    "reto1_results = {\n",
    "    \"P(Bola Blanca)\": p_white,\n",
    "    \"P(Blanca y luego Negra sin reemplazo)\": p_white_first_no_replace,\n",
    "    \"P(Blanca y luego Negra con reemplazo)\": p_white_first_replace,\n",
    "    \"P(3 bolas diferentes colores)\": p_diff_colors\n",
    "}\n",
    "reto1_results"
   ]
  },
  {
   "cell_type": "markdown",
   "metadata": {},
   "source": [
    "## Reto 2\n",
    "\n",
    "Quieres ir de picnic el sábado. Odias la lluvia y quieres planificar tu fin de semana. Para ayudarte a tomar una decisión, recopilas los siguientes datos sobre los días lluviosos:\n",
    "\n",
    "* El 40% de todos los días están nublados.\n",
    "* Aproximadamente el 50% de los días nublados son lluviosos.\n",
    "* Aproximadamente el 20% de los días no nublados son lluviosos.\n",
    "\n",
    "¿Cuál es la probabilidad de que llueva el próximo sábado?"
   ]
  },
  {
   "cell_type": "code",
   "execution_count": 12,
   "metadata": {},
   "outputs": [
    {
     "name": "stdout",
     "output_type": "stream",
     "text": [
      "La probabilidd de lluvia el próximo sábado es de: 0.32\n"
     ]
    }
   ],
   "source": [
    "# Probabilidades dadas\n",
    "p_nublado = 0.4\n",
    "p_lluvia_dado_nublado = 0.5\n",
    "p_lluvia_dado_no_nublado = 0.2\n",
    "\n",
    "# Probabilidad total de que llueva el sábado usando Teorema de la Probabilidad Total\n",
    "p_lluvia_sabado = (p_lluvia_dado_nublado * p_nublado) + (p_lluvia_dado_no_nublado * (1 - p_nublado))\n",
    "print(f\"La probabilidd de lluvia el próximo sábado es de: {p_lluvia_sabado}\")"
   ]
  },
  {
   "cell_type": "markdown",
   "metadata": {},
   "source": [
    "## Reto 3\n",
    "\n",
    "A y B son eventos de una probabilidad tal que \\(P(A) = 0.3\\), \\(P(B) = 0.6\\) y \\(P(A \\cap B) = 0.1\\)\n",
    "\n",
    "¿Cuáles de las siguientes afirmaciones son verdaderas?\n",
    "**SUGERENCIA: dibuja un gran diagrama de Venn a tu lado**\n",
    "* \\(P(\\overline{A}) = 0.7\\)\n",
    "* \\(P(A \\cup B) = 0.6\\)\n",
    "* \\(P(A \\cap \\overline{B}) = 0.2\\)\n",
    "* \\(P(A \\cup \\overline{A}) = 1\\)  \n",
    "* \\(P(A \\cap (B \\cup \\overline{B})) = 0.4\\)\n",
    "* \\(P(\\overline{A} \\cap \\overline{B}) = 0.3\\)\n",
    "* \\(P(\\overline{A \\cap B}) = 0.9\\)"
   ]
  },
  {
   "cell_type": "code",
   "execution_count": 15,
   "metadata": {},
   "outputs": [
    {
     "data": {
      "text/plain": [
       "{'P(¬A) = 0.7': True,\n",
       " 'P(A ∪ B) = 0.6': False,\n",
       " 'P(A ∩ ¬B) = 0.2': False,\n",
       " 'P(A ∪ ¬A) = 1': True,\n",
       " 'P(A ∩ (B ∪ ¬B)) = 0.4': False,\n",
       " 'P(¬A ∩ ¬B) = 0.3': False,\n",
       " 'P(¬(A ∩ B)) = 0.9': True}"
      ]
     },
     "execution_count": 15,
     "metadata": {},
     "output_type": "execute_result"
    }
   ],
   "source": [
    "p_A = 0.3\n",
    "p_B = 0.6\n",
    "p_A_and_B = 0.1\n",
    "\n",
    "# Cálculos de las afirmaciones\n",
    "p_not_A = 1 - p_A\n",
    "p_A_or_B = p_A + p_B - p_A_and_B\n",
    "p_A_and_not_B = p_A - p_A_and_B\n",
    "p_A_or_not_A = 1\n",
    "p_A_and_B_or_not_B = p_A\n",
    "p_not_A_and_not_B = 1 - p_A_or_B\n",
    "p_not_A_and_B = 1 - p_A_and_B\n",
    "\n",
    "reto3_results = {\n",
    "    \"P(¬A) = 0.7\": p_not_A == 0.7,\n",
    "    \"P(A ∪ B) = 0.6\": p_A_or_B == 0.6,\n",
    "    \"P(A ∩ ¬B) = 0.2\": p_A_and_not_B == 0.2,\n",
    "    \"P(A ∪ ¬A) = 1\": p_A_or_not_A == 1,\n",
    "    \"P(A ∩ (B ∪ ¬B)) = 0.4\": p_A_and_B_or_not_B == 0.4,\n",
    "    \"P(¬A ∩ ¬B) = 0.3\": p_not_A_and_not_B == 0.3,\n",
    "    \"P(¬(A ∩ B)) = 0.9\": p_not_A_and_B == 0.9\n",
    "}\n",
    "reto3_results"
   ]
  },
  {
   "cell_type": "markdown",
   "metadata": {},
   "source": [
    "## Reto 4\n",
    "\n",
    "* Si alguien viaja a China, la probabilidad de contraer Covid es del 1%\n",
    "* Si alguien viaja a Italia, la probabilidad de contraer Covid es del 20%\n",
    "\n",
    "Lanzo un dado con números 1, 2, 3, 4, 5, 6:\n",
    "* Si sale 1: Vuelo a Italia\n",
    "* Si no sale 1: Vuelo a China\n",
    "\n",
    "Durante mi viaje, contraje Covid. ¿Cuál es la probabilidad de que haya volado a China?"
   ]
  },
  {
   "cell_type": "code",
   "execution_count": 18,
   "metadata": {},
   "outputs": [
    {
     "name": "stdout",
     "output_type": "stream",
     "text": [
      "La probabilidad de haber volado a China es de un: 0.2%\n"
     ]
    }
   ],
   "source": [
    "# Probabilidad de Covid en Italia y China\n",
    "p_covid_china = 0.01\n",
    "p_covid_italy = 0.2\n",
    "\n",
    "# Probabilidad de volar a China y a Italia\n",
    "p_china = 5/6\n",
    "p_italy = 1/6\n",
    "\n",
    "# Probabilidad total de contraer Covid (usando teorema de probabilidad total)\n",
    "p_covid_total = (p_covid_china * p_china) + (p_covid_italy * p_italy)\n",
    "\n",
    "# Probabilidad de haber volado a China dado que contraje Covid (usando Teorema de Bayes)\n",
    "p_china_given_covid = (p_covid_china * p_china) / p_covid_total\n",
    "\n",
    "print(f\"La probabilidad de haber volado a China es de un: {p_china_given_covid}%\")"
   ]
  },
  {
   "cell_type": "markdown",
   "metadata": {},
   "source": [
    "## BONUS\n",
    "\n",
    "Lanzas 2 dados. ¿Cuál es la probabilidad de que la suma de los números sea 7? ¿Y 8? ¿Y 9? Luego simula 10000 veces y dibuja un gráfico de conteo.\n",
    "\n",
    "tu explicación aquí"
   ]
  },
  {
   "cell_type": "code",
   "execution_count": 21,
   "metadata": {
    "tags": []
   },
   "outputs": [
    {
     "data": {
      "image/png": "[encoded data removed]",
      "text/plain": [
       "<Figure size 640x480 with 1 Axes>"
      ]
     },
     "metadata": {},
     "output_type": "display_data"
    },
    {
     "name": "stdout",
     "output_type": "stream",
     "text": [
      "2: 0.027777777777777776\n",
      "3: 0.05555555555555555\n",
      "4: 0.08333333333333333\n",
      "5: 0.1111111111111111\n",
      "6: 0.1388888888888889\n",
      "7: 0.16666666666666666\n",
      "8: 0.1388888888888889\n",
      "9: 0.1111111111111111\n",
      "10: 0.08333333333333333\n",
      "11: 0.05555555555555555\n",
      "12: 0.027777777777777776\n",
      "La suma total de las probabilidades es: 1.00000\n"
     ]
    }
   ],
   "source": [
    "# Reto BONUS: Simulación de lanzamientos de dos dados\n",
    "dice_rolls = list(product(range(1, 7), repeat=2))\n",
    "\n",
    "# Probabilidad de la suma \n",
    "p_sum_2 = len([roll for roll in dice_rolls if sum(roll) == 2]) / len(dice_rolls)\n",
    "p_sum_3 = len([roll for roll in dice_rolls if sum(roll) == 3]) / len(dice_rolls)\n",
    "p_sum_4 = len([roll for roll in dice_rolls if sum(roll) == 4]) / len(dice_rolls)\n",
    "p_sum_5 = len([roll for roll in dice_rolls if sum(roll) == 5]) / len(dice_rolls)\n",
    "p_sum_6 = len([roll for roll in dice_rolls if sum(roll) == 6]) / len(dice_rolls)\n",
    "p_sum_7 = len([roll for roll in dice_rolls if sum(roll) == 7]) / len(dice_rolls)\n",
    "p_sum_8 = len([roll for roll in dice_rolls if sum(roll) == 8]) / len(dice_rolls)\n",
    "p_sum_9 = len([roll for roll in dice_rolls if sum(roll) == 9]) / len(dice_rolls)\n",
    "p_sum_10 = len([roll for roll in dice_rolls if sum(roll) == 10]) / len(dice_rolls)\n",
    "p_sum_11 = len([roll for roll in dice_rolls if sum(roll) == 11]) / len(dice_rolls)\n",
    "p_sum_12 = len([roll for roll in dice_rolls if sum(roll) == 12]) / len(dice_rolls)\n",
    "\n",
    "# Simulación de 10,000 lanzamientos de 2 dados\n",
    "simulated_rolls = [sum(np.random.randint(1, 7, size=2)) for _ in range(100000)]\n",
    "count_simulations = pd.Series(simulated_rolls).value_counts().sort_index()\n",
    "\n",
    "# Graficamos los resultados\n",
    "count_simulations.plot(kind=\"bar\", color=\"skyblue\")\n",
    "plt.title(\"Distribución de la suma de dos dados en 100,000 simulaciones\")\n",
    "plt.xlabel(\"Suma\")\n",
    "plt.ylabel(\"Frecuencia\")\n",
    "plt.show()\n",
    "\n",
    "print(f\"2: {p_sum_2}\\n3: {p_sum_3}\\n4: {p_sum_4}\\n5: {p_sum_5}\\n6: {p_sum_6}\\n7: {p_sum_7}\\n8: {p_sum_8}\\n9: {p_sum_9}\\n10: {p_sum_10}\\n11: {p_sum_11}\\n12: {p_sum_12}\")\n",
    "print(f\"La suma total de las probabilidades es: {(p_sum_2 + p_sum_3 + p_sum_4 + p_sum_5 + p_sum_6 + p_sum_7 + p_sum_8 + p_sum_9 + p_sum_10 + p_sum_11 + p_sum_12):.5f}\")"
   ]
  },
  {
   "cell_type": "code",
   "execution_count": null,
   "metadata": {},
   "outputs": [],
   "source": []
  },
  {
   "cell_type": "code",
   "execution_count": null,
   "metadata": {},
   "outputs": [],
   "source": []
  }
 ],
 "metadata": {
  "kernelspec": {
   "display_name": "Python 3 (ipykernel)",
   "language": "python",
   "name": "python3"
  },
  "language_info": {
   "codemirror_mode": {
    "name": "ipython",
    "version": 3
   },
   "file_extension": ".py",
   "mimetype": "text/x-python",
   "name": "python",
   "nbconvert_exporter": "python",
   "pygments_lexer": "ipython3",
   "version": "3.11.9"
  },
  "toc": {
   "base_numbering": 1,
   "nav_menu": {},
   "number_sections": false,
   "sideBar": true,
   "skip_h1_title": false,
   "title_cell": "Table of Contents",
   "title_sidebar": "Contents",
   "toc_cell": false,
   "toc_position": {
    "height": "calc(100% - 180px)",
    "left": "10px",
    "top": "150px",
    "width": "296.475px"
   },
   "toc_section_display": true,
   "toc_window_display": false
  },
  "varInspector": {
   "cols": {
    "lenName": 16,
    "lenType": 16,
    "lenVar": 40
   },
   "kernels_config": {
    "python": {
     "delete_cmd_postfix": "",
     "delete_cmd_prefix": "del ",
     "library": "var_list.py",
     "varRefreshCmd": "print(var_dic_list())"
    },
    "r": {
     "delete_cmd_postfix": ") ",
     "delete_cmd_prefix": "rm(",
     "library": "var_list.r",
     "varRefreshCmd": "cat(var_dic_list()) "
    }
   },
   "types_to_exclude": [
    "module",
    "function",
    "builtin_function_or_method",
    "instance",
    "_Feature"
   ],
   "window_display": false
  }
 },
 "nbformat": 4,
 "nbformat_minor": 4
}
